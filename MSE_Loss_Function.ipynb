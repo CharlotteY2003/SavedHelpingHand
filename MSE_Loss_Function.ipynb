{
  "nbformat": 4,
  "nbformat_minor": 0,
  "metadata": {
    "colab": {
      "name": "MSE Loss Function.ipynb",
      "provenance": [],
      "authorship_tag": "ABX9TyMzDtwgg0tHqd/MKTvX1HDx",
      "include_colab_link": true
    },
    "kernelspec": {
      "name": "python3",
      "display_name": "Python 3"
    },
    "language_info": {
      "name": "python"
    }
  },
  "cells": [
    {
      "cell_type": "markdown",
      "metadata": {
        "id": "view-in-github",
        "colab_type": "text"
      },
      "source": [
        "<a href=\"https://colab.research.google.com/github/CharlotteY2003/SavedHelpingHand/blob/master/MSE_Loss_Function.ipynb\" target=\"_parent\"><img src=\"https://colab.research.google.com/assets/colab-badge.svg\" alt=\"Open In Colab\"/></a>"
      ]
    },
    {
      "cell_type": "code",
      "metadata": {
        "id": "y4oYZEerHfnh"
      },
      "source": [
        "import pandas as pd\n",
        "import numpy as np\n",
        "from keras.models import Sequential\n",
        "from keras.layers import *\n",
        "from sklearn.datasets import make_regression\n",
        "from sklearn.preprocessing import StandardScaler\n",
        "from keras.optimizers import SGD\n",
        "import matplotlib.pyplot as plt"
      ],
      "execution_count": 1,
      "outputs": []
    },
    {
      "cell_type": "code",
      "metadata": {
        "id": "X-2lEKflHt6d"
      },
      "source": [
        "X,y = make_regression(n_samples = 1000, n_features = 20, noise = .1, random_state = 1)"
      ],
      "execution_count": 2,
      "outputs": []
    },
    {
      "cell_type": "code",
      "metadata": {
        "id": "z5lqJxB4ITff"
      },
      "source": [
        "scaler = StandardScaler()\n",
        "X = scaler.fit_transform(X)\n",
        "y = scaler.fit_transform(y.reshape(len(y),1))[:,0]"
      ],
      "execution_count": 3,
      "outputs": []
    },
    {
      "cell_type": "code",
      "metadata": {
        "id": "B_TLx-W0IbYD"
      },
      "source": [
        "n_train = 500\n",
        "X_train, X_test = X[:n_train,:], X[n_train:,:]\n",
        "y_train, y_test = y[:n_train], y[n_train:]"
      ],
      "execution_count": 4,
      "outputs": []
    },
    {
      "cell_type": "code",
      "metadata": {
        "id": "KziFMEBpJFwV"
      },
      "source": [
        "model = Sequential()\n",
        "model.add(Dense(25, input_dim = 20, activation = 'relu', kernel_initializer='he_uniform'))\n",
        "model.add(Dense(1, activation='linear'))\n",
        "optimizer = SGD(learning_rate=.01, momentum=.9)\n",
        "model.compile(optimizer = optimizer, loss = 'mse')"
      ],
      "execution_count": 5,
      "outputs": []
    },
    {
      "cell_type": "code",
      "metadata": {
        "id": "eopWcGNjJqSf"
      },
      "source": [
        "history = model.fit(X_train, y_train, validation_data = (X_test, y_test), epochs = 100, verbose = 100)"
      ],
      "execution_count": null,
      "outputs": []
    },
    {
      "cell_type": "code",
      "metadata": {
        "colab": {
          "base_uri": "https://localhost:8080/"
        },
        "id": "MZq9_x2HJ70V",
        "outputId": "9d826ddc-69f6-4136-a174-ff3f22597fd7"
      },
      "source": [
        "train_mse = model.evaluate(X_train, y_train, verbose = 0)\n",
        "val_mse = model.evaluate(X_train, y_test, verbose =0)\n",
        "print(train_mse, val_mse)"
      ],
      "execution_count": 7,
      "outputs": [
        {
          "output_type": "stream",
          "text": [
            "0.003195545868948102 1.8566515445709229\n"
          ],
          "name": "stdout"
        }
      ]
    },
    {
      "cell_type": "code",
      "metadata": {
        "colab": {
          "base_uri": "https://localhost:8080/",
          "height": 298
        },
        "id": "NjNuAwzcKVhM",
        "outputId": "d7971538-6b5d-4cd3-939e-064c75d6ef5b"
      },
      "source": [
        "plt.title('Loss/MSE')\n",
        "plt.plot(history.history['loss'], color = 'blue', label = 'train')\n",
        "plt.plot(history.history['val_loss'], color = 'orange', label = 'test')\n",
        "plt.show()\n",
        "plt.savefig('MSEgraph.png')"
      ],
      "execution_count": 9,
      "outputs": [
        {
          "output_type": "display_data",
          "data": {
            "image/png": "[encoded data removed]",
            "text/plain": [
              "<Figure size 432x288 with 1 Axes>"
            ]
          },
          "metadata": {
            "tags": [],
            "needs_background": "light"
          }
        },
        {
          "output_type": "display_data",
          "data": {
            "text/plain": [
              "<Figure size 432x288 with 0 Axes>"
            ]
          },
          "metadata": {
            "tags": []
          }
        }
      ]
    },
    {
      "cell_type": "code",
      "metadata": {
        "id": "QG5wDTssLzIh"
      },
      "source": [
        ""
      ],
      "execution_count": null,
      "outputs": []
    }
  ]
}